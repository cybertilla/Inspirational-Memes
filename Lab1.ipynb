{
  "nbformat": 4,
  "nbformat_minor": 0,
  "metadata": {
    "colab": {
      "provenance": [],
      "authorship_tag": "ABX9TyMNq81S9w4jTgzAU5lfDET4",
      "include_colab_link": true
    },
    "kernelspec": {
      "name": "python3",
      "display_name": "Python 3"
    },
    "language_info": {
      "name": "python"
    }
  },
  "cells": [
    {
      "cell_type": "markdown",
      "metadata": {
        "id": "view-in-github",
        "colab_type": "text"
      },
      "source": [
        "<a href=\"https://colab.research.google.com/github/cybertilla/InspirationalMems/blob/main/Lab1.ipynb\" target=\"_parent\"><img src=\"https://colab.research.google.com/assets/colab-badge.svg\" alt=\"Open In Colab\"/></a>"
      ]
    },
    {
      "cell_type": "code",
      "execution_count": 41,
      "metadata": {
        "colab": {
          "base_uri": "https://localhost:8080/"
        },
        "id": "oFFjwSPAqNU-",
        "outputId": "62fa9db1-972b-4d05-e393-cd371c9fd167"
      },
      "outputs": [
        {
          "output_type": "stream",
          "name": "stdout",
          "text": [
            "How many breads do you want? \n",
            "99\n",
            "\n",
            "You want 99 pieces of bread: \n",
            "\n",
            "The total price is 345.51, but since we have a 60% discount, you pay 207.31\n"
          ]
        }
      ],
      "source": [
        "#This Python script solves the problems outlined in assignment A.0.1\n",
        "#Author: Bertilla Fabris\n",
        "#Date: 19/01/24\n",
        "\n",
        "print(\"How many breads do you want?\")\n",
        "breads = input()\n",
        "full_price = 3.49\n",
        "\n",
        "print(\"\\nYou want {input} pieces of bread: \".format(input = breads))\n",
        "full_price_tot = full_price*float(breads)\n",
        "full_price_tot = round(full_price_tot,2)\n",
        "discounted_tot = full_price_tot * 60/100\n",
        "discounted_tot = round(discounted_tot,2)\n",
        "print(\"\\nThe total price is {full_price_tot}, but since we have a 60% discount, you pay {discounted_tot}\".format(full_price_tot = full_price_tot, discounted_tot= discounted_tot))\n"
      ]
    },
    {
      "cell_type": "code",
      "source": [
        "#This Python script solves the problems outlined in assignment A.0.2\n",
        "#Author: Bertilla Fabris\n",
        "#Date: 19/01/24\n",
        "\n",
        "while True:\n",
        "  dog_age = float(input())\n",
        "\n",
        "  if dog_age > 2:\n",
        "    dog_years = 21 + (7*(dog_age-2))\n",
        "    humane_age = round(dog_years, 2)\n",
        "    print(\"Your dog is: {age}\".format(age = humane_age))\n",
        "    break\n",
        "  elif 0 < dog_age <= 2:\n",
        "      humane_age = round(dog_age*10.5, 2)\n",
        "      print(\"Your dog is: {age}\".format(age = humane_age))\n",
        "      break\n",
        "  else:\n",
        "    print(\"please enter a positive number\")\n",
        "\n",
        "#this could be rewritten as a switch case to improve legibility\n"
      ],
      "metadata": {
        "colab": {
          "base_uri": "https://localhost:8080/"
        },
        "id": "NCxTVePYwWSp",
        "outputId": "aba23f10-1cd8-4106-d53c-ce3c7f5d8323"
      },
      "execution_count": 54,
      "outputs": [
        {
          "output_type": "stream",
          "name": "stdout",
          "text": [
            "-9\n",
            "please enter a positive number\n",
            "0\n",
            "please enter a positive number\n",
            "1\n",
            "Your dog is: 10.5\n"
          ]
        }
      ]
    },
    {
      "cell_type": "code",
      "source": [
        "#This Python script solves the problems outlined in assignment A.0.4 and A.0.5\n",
        "#Author: Bertilla Fabris\n",
        "#Date: 19/01/24\n",
        "\n",
        "from math import sqrt\n",
        "from sympy import *\n",
        "\n",
        "#prime: a number above 1 only neatly divisible by 1 and itself\n",
        "def is_prime(n):\n",
        "  flag = 0\n",
        "  if(n > 1):\n",
        "    for i in range(2, int(sqrt(n)) + 1):\n",
        "      if (n % i == 0):\n",
        "        flag = 1\n",
        "      break\n",
        "    if (flag == 0):\n",
        "      print(n, \" is a prime\")\n",
        "    else:\n",
        "      print(n, \" is not a prime\")\n",
        "  else:\n",
        "    print(n, \" is not a prime\")\n",
        "\n",
        "#builtin next_prime method\n",
        "def next_prime(n):\n",
        "  next = nextprime(n)\n",
        "  print(\"The next prime number is \" + str(next))\n",
        "\n",
        "def main():\n",
        "  n = int(input())\n",
        "  is_prime(n)\n",
        "  next_prime(n)\n",
        "\n",
        "main()\n"
      ],
      "metadata": {
        "colab": {
          "base_uri": "https://localhost:8080/"
        },
        "id": "X5WPy8u4yrMd",
        "outputId": "6000d817-e038-4dcd-88a4-a415352eed99"
      },
      "execution_count": 5,
      "outputs": [
        {
          "output_type": "stream",
          "name": "stdout",
          "text": [
            "4\n",
            "4  is not a prime\n",
            "The next prime number is 5\n"
          ]
        }
      ]
    },
    {
      "cell_type": "code",
      "source": [
        "#This Python script solves the problems outlined in assignment A.0.3\n",
        "#Author: Bertilla Fabris\n",
        "#Date: 19/01/24\n",
        "\n",
        "import random\n",
        "\n",
        "results = []\n",
        "\n",
        "def printTH(n):\n",
        "  if n % 2 == 0:\n",
        "    results.append(\"T\")\n",
        "  else:\n",
        "    results.append(\"H\")\n",
        "\n",
        "def find_H():\n",
        "  if results[-3:] == [\"H\", \"H\", \"H\"]:\n",
        "    return True\n",
        "\n",
        "def find_T():\n",
        "  if results[-3:] == [\"T\", \"T\", \"T\"]:\n",
        "    return True\n",
        "\n",
        "def main(results):\n",
        "  count = 0\n",
        "  #adding an upper limit of 1000 coin flips\n",
        "  for count in range(1000):\n",
        "    n = (random.randint(1, 100))\n",
        "    printTH(n)\n",
        "    if find_H():\n",
        "      print(\"Hs\")\n",
        "      print(results)\n",
        "      print(count+1)\n",
        "      break\n",
        "    elif find_T():\n",
        "      print(results)\n",
        "      print(count+1)\n",
        "      break\n",
        "\n",
        "main(results)"
      ],
      "metadata": {
        "colab": {
          "base_uri": "https://localhost:8080/"
        },
        "id": "gwjXYtDf5Vbw",
        "outputId": "bf67ad96-2094-4e9b-ca50-a3b63d89f240"
      },
      "execution_count": 7,
      "outputs": [
        {
          "output_type": "stream",
          "name": "stdout",
          "text": [
            "Hs\n",
            "['H', 'H', 'H']\n",
            "3\n"
          ]
        }
      ]
    },
    {
      "cell_type": "code",
      "source": [
        "#This Python script solves the problems outlined in assignment A.0.6\n",
        "#Author: Bertilla Fabris\n",
        "#Date: 19/01/24\n",
        "\n",
        "import random\n",
        "\n",
        "def createDeck():\n",
        "  deck = []\n",
        "  seeds = [\"s\", \"c\", \"h\", \"d\"]\n",
        "  values = [2,3,4,5,6,7,8,9, \"T\", \"J\", \"Q\", \"K\", \"A\"]\n",
        "  for v in values:\n",
        "    for s in seeds:\n",
        "      deck.append(\"{value}{seed}\".format(value = v, seed = s))\n",
        "  return deck\n",
        "\n",
        "def shuffle(deck):\n",
        "  print(deck)\n",
        "  random.shuffle(deck)\n",
        "  print(deck)\n",
        "  return deck\n",
        "\n",
        "\n",
        "def main():\n",
        "  deck = createDeck()\n",
        "  shuffle(deck)\n",
        "\n",
        "\n",
        "main()"
      ],
      "metadata": {
        "colab": {
          "base_uri": "https://localhost:8080/"
        },
        "id": "qjNgRQ9vKI-I",
        "outputId": "06a49119-1cf2-4175-9035-d259be161a2c"
      },
      "execution_count": 2,
      "outputs": [
        {
          "output_type": "stream",
          "name": "stdout",
          "text": [
            "['2s', '2c', '2h', '2d', '3s', '3c', '3h', '3d', '4s', '4c', '4h', '4d', '5s', '5c', '5h', '5d', '6s', '6c', '6h', '6d', '7s', '7c', '7h', '7d', '8s', '8c', '8h', '8d', '9s', '9c', '9h', '9d', 'Ts', 'Tc', 'Th', 'Td', 'Js', 'Jc', 'Jh', 'Jd', 'Qs', 'Qc', 'Qh', 'Qd', 'Ks', 'Kc', 'Kh', 'Kd', 'As', 'Ac', 'Ah', 'Ad']\n",
            "['Qs', 'Jh', '6d', 'Js', '2s', 'Jc', '4s', '9s', '7h', '6s', '7s', '2c', '5h', '3c', '5d', '3h', 'Td', '8s', 'Qh', '2d', '2h', 'As', 'Kh', '7d', '7c', 'Qc', '9c', 'Ts', '8c', '8d', 'Kc', '6c', '4c', '5s', 'Ah', 'Ad', 'Qd', '3s', '6h', 'Tc', '9d', '5c', 'Ac', '3d', 'Kd', 'Jd', 'Th', '4d', '4h', '9h', '8h', 'Ks']\n"
          ]
        }
      ]
    },
    {
      "cell_type": "code",
      "source": [
        "#This Python script solves the problems outlined in assignment A.0.7\n",
        "#Author: Bertilla Fabris\n",
        "#Date: 22/01/24\n",
        "\n",
        "import random\n",
        "\n",
        "class Cards():\n",
        "    cards=[]\n",
        "    def create(self):\n",
        "        self.cards=[]\n",
        "        #Construct the deck\n",
        "        seeds = [\"s\", \"c\", \"h\", \"d\"]\n",
        "        values = [2,3,4,5,6,7,8,9, \"T\", \"J\", \"Q\", \"K\", \"A\"]\n",
        "        for v in values:\n",
        "          for s in seeds:\n",
        "            self.cards.append(\"{value}{seed}\".format(value = v, seed = s))\n",
        "        return self.cards\n",
        "\n",
        "\n",
        "    def shuffle(self):\n",
        "        deck = random.shuffle(self.cards)\n",
        "\n",
        "\n",
        "    def deal(self, hands, card_num):\n",
        "        final_hands = []\n",
        "        single_hand = []\n",
        "        h = 0\n",
        "        n = 0\n",
        "        for h in range(hands):\n",
        "          final_hands.insert(h, [])\n",
        "          current_hand = final_hands[h]\n",
        "          for n in range(card_num):\n",
        "            current_hand.append(self.cards[n])\n",
        "            self.cards.remove(self.cards[n])\n",
        "            n+=1\n",
        "          h+=1\n",
        "\n",
        "        return final_hands\n",
        "\n",
        "\n",
        "card_01 = Cards()\n",
        "card_01.create()\n",
        "card_01.shuffle()\n",
        "card_01.deal(5,5)\n"
      ],
      "metadata": {
        "colab": {
          "base_uri": "https://localhost:8080/"
        },
        "id": "8TH5Bj1sR8Nd",
        "outputId": "eeb3d984-0f1f-451c-d458-6bc0368346e0"
      },
      "execution_count": 9,
      "outputs": [
        {
          "output_type": "execute_result",
          "data": {
            "text/plain": [
              "[['Qs', 'Qc', '7s', '6d', 'Jc'],\n",
              " ['8d', '6h', 'Th', '9h', 'Ks'],\n",
              " ['5h', 'Kc', '4s', 'Ad', 'Tc'],\n",
              " ['7d', 'Qd', '3d', '6s', '4d'],\n",
              " ['Jh', 'Kh', '2h', 'Ts', '6c']]"
            ]
          },
          "metadata": {},
          "execution_count": 9
        }
      ]
    }
  ]
}